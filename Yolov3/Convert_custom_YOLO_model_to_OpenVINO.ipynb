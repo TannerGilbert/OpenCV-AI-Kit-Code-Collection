{
  "nbformat": 4,
  "nbformat_minor": 0,
  "metadata": {
    "colab": {
      "name": "Convert custom YOLO model to OpenVINO.ipynb",
      "provenance": [],
      "collapsed_sections": [],
      "toc_visible": true
    },
    "kernelspec": {
      "display_name": "Python 3",
      "name": "python3"
    },
    "accelerator": "GPU"
  },
  "cells": [
    {
      "cell_type": "markdown",
      "metadata": {
        "id": "N752pCdGNaPJ"
      },
      "source": [
        "# YOLO Object Detection"
      ]
    },
    {
      "cell_type": "markdown",
      "metadata": {
        "id": "aqTJGYlFNdlp"
      },
      "source": [
        "## Installation"
      ]
    },
    {
      "cell_type": "code",
      "metadata": {
        "colab": {
          "base_uri": "https://localhost:8080/"
        },
        "id": "9uEYkYOjPHUx",
        "outputId": "636d9d4e-78e9-436f-80b4-176a9ba351ed"
      },
      "source": [
        "!git clone https://github.com/AlexeyAB/darknet.git\n",
        "!chmod +x ./darknet\n",
        "!ls darknet"
      ],
      "execution_count": null,
      "outputs": []
    },
    {
      "cell_type": "code",
      "metadata": {
        "colab": {
          "base_uri": "https://localhost:8080/"
        },
        "id": "-3nrI_tYoq09",
        "outputId": "9e513379-16c4-491f-a000-9499e65ed0a6"
      },
      "source": [
        "%tensorflow_version 1.x"
      ],
      "execution_count": null,
      "outputs": []
    },
    {
      "cell_type": "code",
      "metadata": {
        "colab": {
          "base_uri": "https://localhost:8080/",
          "height": 35
        },
        "id": "5wQRH5X9orLg",
        "outputId": "f19de211-c505-4820-c70c-6cd617eeecb5"
      },
      "source": [
        "import tensorflow as tf\n",
        "tf.__version__"
      ],
      "execution_count": null,
      "outputs": []
    },
    {
      "cell_type": "code",
      "metadata": {
        "id": "uOtmbHCoJP7z"
      },
      "source": [
        "with open('darknet/Makefile', 'r') as file_:\n",
        "  file_content = file_.read()\n",
        "file_content = file_content.replace('GPU=0', 'GPU=1').replace('CUDNN=0', 'CUDNN=1').replace('OPENCV=0', 'OPENCV=1')\n",
        "\n",
        "f = open('darknet/Makefile', 'w')\n",
        "f.write(file_content)\n",
        "f.close()"
      ],
      "execution_count": null,
      "outputs": []
    },
    {
      "cell_type": "code",
      "metadata": {
        "colab": {
          "base_uri": "https://localhost:8080/"
        },
        "id": "lW1LgWC-KRFe",
        "outputId": "9b3e3bba-20a5-49ed-b69d-c297f63320b7"
      },
      "source": [
        "%cd darknet\n",
        "!make"
      ],
      "execution_count": null,
      "outputs": []
    },
    {
      "cell_type": "markdown",
      "metadata": {
        "id": "QoNjIP6eLE97"
      },
      "source": [
        "## Training"
      ]
    },
    {
      "cell_type": "code",
      "metadata": {
        "id": "QPztv858LFvp",
        "colab": {
          "base_uri": "https://localhost:8080/"
        },
        "outputId": "d44a0ca0-fab5-477f-9f14-1343b7dc6a91"
      },
      "source": [
        "# Install Kaggle API\n",
        "!pip install -q kaggle\n",
        "!pip install -q kaggle-cli"
      ],
      "execution_count": null,
      "outputs": []
    },
    {
      "cell_type": "code",
      "metadata": {
        "id": "DByn7XRvMYcE"
      },
      "source": [
        "# only for google colab\n",
        "import os\n",
        "os.environ['KAGGLE_USERNAME'] = \"<username>\" \n",
        "os.environ['KAGGLE_KEY'] = \"<key>\""
      ],
      "execution_count": null,
      "outputs": []
    },
    {
      "cell_type": "code",
      "metadata": {
        "id": "Bx0zNHrbNqZF",
        "colab": {
          "base_uri": "https://localhost:8080/"
        },
        "outputId": "304a13d1-66f7-43b5-fff2-fcca1a3b4ce5"
      },
      "source": [
        "!kaggle datasets download -d tannergi/microcontroller-detection --unzip"
      ],
      "execution_count": null,
      "outputs": []
    },
    {
      "cell_type": "code",
      "metadata": {
        "id": "MM9pmcivt4GN"
      },
      "source": [
        "!mv 'Microcontroller Detection' microcontroller-detection"
      ],
      "execution_count": null,
      "outputs": []
    },
    {
      "cell_type": "code",
      "metadata": {
        "id": "z_yoiGxgvf7U",
        "colab": {
          "base_uri": "https://localhost:8080/"
        },
        "outputId": "9f5dcc46-d332-4036-f172-4896b7828728"
      },
      "source": [
        "%cd 'microcontroller-detection'\n",
        "!wget https://raw.githubusercontent.com/TannerGilbert/YOLO-Tutorials/master/YOLO-Object-Detection-with-Darknet/convert_voc_to_yolo.py"
      ],
      "execution_count": null,
      "outputs": []
    },
    {
      "cell_type": "code",
      "metadata": {
        "id": "ctYcN93O8o2t",
        "colab": {
          "base_uri": "https://localhost:8080/"
        },
        "outputId": "0225e4b8-6e50-4809-c704-57604cd73bde"
      },
      "source": [
        "!python convert_voc_to_yolo.py"
      ],
      "execution_count": null,
      "outputs": []
    },
    {
      "cell_type": "code",
      "metadata": {
        "id": "2dYn-NKb9W-x"
      },
      "source": [
        "classes_file = open('custom.names', 'w')\n",
        "classes = ['Arduino_Nano', 'Heltec_ESP32_Lora', 'ESP8266', 'Raspberry_Pi_3']\n",
        "num_classes = len(classes)\n",
        "for c in classes:\n",
        "  classes_file.write(c + '\\n')\n",
        "classes_file.close()"
      ],
      "execution_count": null,
      "outputs": []
    },
    {
      "cell_type": "code",
      "metadata": {
        "id": "8Malpken9j6x",
        "colab": {
          "base_uri": "https://localhost:8080/"
        },
        "outputId": "184f3374-1d56-4dee-ae11-411a6a853561"
      },
      "source": [
        "%cd /content/darknet"
      ],
      "execution_count": null,
      "outputs": []
    },
    {
      "cell_type": "code",
      "metadata": {
        "id": "kqHcduXPGr1F"
      },
      "source": [
        "config_file = open('detector.data', 'w')\n",
        "\n",
        "config_file.write(f'classes={num_classes}\\n')\n",
        "config_file.write('train=/content/darknet/microcontroller-detection/train.txt\\n')\n",
        "config_file.write('valid=/content/darknet/microcontroller-detection/test.txt\\n')\n",
        "config_file.write('names=/content/darknet/microcontroller-detection/custom.names\\n')\n",
        "config_file.write('backup=backup/')\n",
        "\n",
        "config_file.close()"
      ],
      "execution_count": null,
      "outputs": []
    },
    {
      "cell_type": "code",
      "metadata": {
        "id": "Le-cPJAzxS3U",
        "colab": {
          "base_uri": "https://localhost:8080/"
        },
        "outputId": "aa4c2039-7fb0-43a0-b297-2d4a9d70ec9e"
      },
      "source": [
        "!cat detector.data"
      ],
      "execution_count": null,
      "outputs": []
    },
    {
      "cell_type": "code",
      "metadata": {
        "id": "ZjZK43jxlFr7"
      },
      "source": [
        "!cp cfg/yolov3.cfg yolov3-custom.cfg\n",
        "with open('yolov3-custom.cfg', 'r') as file_:\n",
        "  file_content = file_.read()\n",
        "file_content = file_content.replace('batch=1', 'batch=64').replace('subdivisions=1', 'subdivisions=16').replace('max_batches = 500200', 'max_batches = 4000').replace('steps=400000,450000', 'steps=3200,3600').replace('classes=80', f'classes={num_classes}').replace('filters=255', f'filters={(num_classes + 5) * 3}')\n",
        "\n",
        "f = open('yolov3-custom.cfg', 'w')\n",
        "f.write(file_content)\n",
        "f.close()"
      ],
      "execution_count": null,
      "outputs": []
    },
    {
      "cell_type": "code",
      "metadata": {
        "id": "AoNhLmGfJAWd",
        "colab": {
          "base_uri": "https://localhost:8080/"
        },
        "outputId": "db3c9ca5-ee70-401f-c75c-d39c562ddcbf"
      },
      "source": [
        "!cat yolov3-custom.cfg"
      ],
      "execution_count": null,
      "outputs": []
    },
    {
      "cell_type": "code",
      "metadata": {
        "id": "GsxHRWkHxSBF",
        "colab": {
          "base_uri": "https://localhost:8080/"
        },
        "outputId": "05885ffe-c5d9-4b75-e940-867c17bac528"
      },
      "source": [
        "!wget https://pjreddie.com/media/files/darknet53.conv.74"
      ],
      "execution_count": null,
      "outputs": []
    },
    {
      "cell_type": "code",
      "metadata": {
        "id": "T11dFmNhxeah",
        "colab": {
          "base_uri": "https://localhost:8080/"
        },
        "outputId": "9ae3adef-1cf2-41c7-bf67-cb0c18b5d11e"
      },
      "source": [
        "!./darknet detector train /content/darknet/detector.data /content/darknet/yolov3-custom.cfg /content/darknet/darknet53.conv.74 -dont_show"
      ],
      "execution_count": null,
      "outputs": []
    },
    {
      "cell_type": "code",
      "metadata": {
        "colab": {
          "base_uri": "https://localhost:8080/"
        },
        "id": "l8GiStOdW26F",
        "outputId": "f0e26cbf-1d3a-4ae3-82e5-33c32c735900"
      },
      "source": [
        "!ls -lah /content/darknet/backup/yolov3-custom_last.weights"
      ],
      "execution_count": null,
      "outputs": []
    },
    {
      "cell_type": "markdown",
      "metadata": {
        "id": "QZnwzmjdQ2oF"
      },
      "source": [
        "## Convert YOLO model to Tensorflow frozen model"
      ]
    },
    {
      "cell_type": "code",
      "metadata": {
        "colab": {
          "base_uri": "https://localhost:8080/"
        },
        "id": "8Qg0do9rQ0cr",
        "outputId": "ea0a6265-fd06-4a13-948e-9a2e52a05fa5"
      },
      "source": [
        "#clone a repo that helps with the conversion\n",
        "!git clone https://github.com/mystic123/tensorflow-yolo-v3.git"
      ],
      "execution_count": null,
      "outputs": []
    },
    {
      "cell_type": "code",
      "metadata": {
        "colab": {
          "base_uri": "https://localhost:8080/"
        },
        "id": "tsFYn85YQ6dc",
        "outputId": "22bafdaf-508f-4154-a8ea-a88fe3cda790"
      },
      "source": [
        "%cd tensorflow-yolo-v3/\n",
        "!git checkout ed60b90"
      ],
      "execution_count": null,
      "outputs": []
    },
    {
      "cell_type": "code",
      "metadata": {
        "colab": {
          "base_uri": "https://localhost:8080/"
        },
        "id": "MzkOBKR7Q7ov",
        "outputId": "7be3e67d-9a0a-45e9-ec08-c773b2aa0d07"
      },
      "source": [
        "!python3 convert_weights_pb.py --class_names /content/darknet/data/coco.names --data_format NHWC --weights_file /content/darknet/backup/yolov3-custom_last.weights --class_names /content/darknet/microcontroller-detection/custom.names"
      ],
      "execution_count": null,
      "outputs": []
    },
    {
      "cell_type": "markdown",
      "metadata": {
        "id": "2HZAsHCVRdkT"
      },
      "source": [
        "## Install OpenVINO 2021.2"
      ]
    },
    {
      "cell_type": "code",
      "metadata": {
        "colab": {
          "base_uri": "https://localhost:8080/"
        },
        "id": "TgGC8gXLRfMD",
        "outputId": "a59f482c-13f9-4259-ca5f-69000e9e0ab8"
      },
      "source": [
        "%%time\n",
        "%%capture\n",
        "## install tools. Open Vino takes some time to download: 10-15 min sometimes.\n",
        "!sudo apt-get install -y pciutils cpio\n",
        "!sudo apt autoremove\n",
        "## downnload installation files\n",
        "!wget https://registrationcenter-download.intel.com/akdlm/irc_nas/17504/l_openvino_toolkit_p_2021.2.185.tgz\n",
        "path = \"l_openvino_toolkit_p_2021.2.185.tgz\"\n",
        "## install openvino\n",
        "!tar xf \"{path}\"\n",
        "%cd l_openvino_toolkit_p_2021.2.185/\n",
        "!./install_openvino_dependencies.sh && \\\n",
        "    sed -i 's/decline/accept/g' silent.cfg && \\\n",
        "    ./install.sh --silent silent.cfg"
      ],
      "execution_count": null,
      "outputs": []
    },
    {
      "cell_type": "code",
      "metadata": {
        "colab": {
          "base_uri": "https://localhost:8080/"
        },
        "id": "rSMryXlORgR8",
        "outputId": "bb57f23e-cf42-4dee-a6b4-910abf403c28"
      },
      "source": [
        "%cd /opt/intel/openvino_2021.2.185/deployment_tools/model_optimizer/install_prerequisites/\n",
        "!./install_prerequisites_tf.sh"
      ],
      "execution_count": null,
      "outputs": []
    },
    {
      "cell_type": "markdown",
      "metadata": {
        "id": "0rip-FjGRixo"
      },
      "source": [
        "## Convert TF model to OpenVINO IR"
      ]
    },
    {
      "cell_type": "code",
      "metadata": {
        "colab": {
          "base_uri": "https://localhost:8080/"
        },
        "id": "ZXwtjwA8RkIX",
        "outputId": "1bc6b38c-c69a-43bf-9238-0bcc8b9edd60"
      },
      "source": [
        "%%writefile /content/darknet/yolo_v3.json\n",
        "[\n",
        "  {\n",
        "    \"id\": \"TFYOLOV3\",\n",
        "    \"match_kind\": \"general\",\n",
        "    \"custom_attributes\": {\n",
        "      \"classes\": 4,\n",
        "      \"anchors\": [10, 13, 16, 30, 33, 23, 30, 61, 62, 45, 59, 119, 116, 90, 156, 198, 373, 326],\n",
        "      \"coords\": 4,\n",
        "      \"num\": 9,\n",
        "      \"masks\":[[6, 7, 8], [3, 4, 5], [0, 1, 2]],\n",
        "      \"entry_points\": [\"detector/yolo-v3/Reshape\", \"detector/yolo-v3/Reshape_4\", \"detector/yolo-v3/Reshape_8\"]\n",
        "    }\n",
        "  }\n",
        "]"
      ],
      "execution_count": null,
      "outputs": []
    },
    {
      "cell_type": "code",
      "metadata": {
        "colab": {
          "base_uri": "https://localhost:8080/"
        },
        "id": "Uldt4sPlR-sl",
        "outputId": "cc578369-c017-4384-8c0b-15ee405022cb"
      },
      "source": [
        "!cat /content/darknet/yolo_v3.json"
      ],
      "execution_count": null,
      "outputs": []
    },
    {
      "cell_type": "code",
      "metadata": {
        "colab": {
          "base_uri": "https://localhost:8080/"
        },
        "id": "s056cIEYSB5S",
        "outputId": "4586af21-b7f2-43b0-996e-088f3ec74c00"
      },
      "source": [
        "output_dir = '/content/yolov3'\n",
        "\n",
        "!source /opt/intel/openvino_2021.2.185/bin/setupvars.sh && \\\n",
        "    python /opt/intel/openvino_2021.2.185/deployment_tools/model_optimizer/mo.py \\\n",
        "      --input_model /content/darknet/tensorflow-yolo-v3/frozen_darknet_yolov3_model.pb \\\n",
        "      --tensorflow_use_custom_operations_config /content/darknet/yolo_v3.json \\\n",
        "      --batch 1 \\\n",
        "      --data_type FP16 \\\n",
        "      --reverse_input_channel \\\n",
        "      --output_dir {output_dir}"
      ],
      "execution_count": null,
      "outputs": []
    },
    {
      "cell_type": "code",
      "metadata": {
        "colab": {
          "base_uri": "https://localhost:8080/"
        },
        "id": "yRRDAEIrSGVz",
        "outputId": "d267d759-d426-4c63-acc9-981b22fede37"
      },
      "source": [
        "!ls -lah {output_dir}/frozen_darknet_yolov3_model.bin"
      ],
      "execution_count": null,
      "outputs": []
    },
    {
      "cell_type": "markdown",
      "metadata": {
        "id": "1q81AWLmSGpH"
      },
      "source": [
        "## Compile the IR model to a .blob for use on DepthAI modules/platform"
      ]
    },
    {
      "cell_type": "code",
      "metadata": {
        "id": "hdnYAPb7SI3Y"
      },
      "source": [
        "import requests\n",
        "\n",
        "url = \"http://69.164.214.171:8083/compile\"  # change if running against other URL\n",
        "\n",
        "payload = {\n",
        "    'compiler_params': '-ip U8 -VPU_NUMBER_OF_SHAVES 8 -VPU_NUMBER_OF_CMX_SLICES 8',\n",
        "    'compile_type': 'myriad'\n",
        "}\n",
        "files = [\n",
        "    ('definition', open(f'{output_dir}/frozen_darknet_yolov3_model.xml', 'rb')),\n",
        "    ('weights', open(f'{output_dir}/frozen_darknet_yolov3_model.bin', 'rb'))\n",
        "]\n",
        "params = {\n",
        "    'version': '2021.1',  # OpenVINO version, can be \"2021.1\", \"2020.4\", \"2020.3\", \"2020.2\", \"2020.1\", \"2019.R3\"\n",
        "}\n",
        "\n",
        "response = requests.post(url, data=payload, files=files, params=params)\n",
        "\n",
        "with open(f'{output_dir}/model.blob', 'wb') as f:\n",
        "  f.write(response.content)"
      ],
      "execution_count": null,
      "outputs": []
    },
    {
      "cell_type": "code",
      "metadata": {
        "colab": {
          "base_uri": "https://localhost:8080/"
        },
        "id": "NJr1E6FkSJ5-",
        "outputId": "c0e5b69b-d2fd-4d66-d4e1-7c0b082cff02"
      },
      "source": [
        "!ls -lah {output_dir}/model.blob"
      ],
      "execution_count": null,
      "outputs": []
    },
    {
      "cell_type": "code",
      "metadata": {
        "colab": {
          "base_uri": "https://localhost:8080/",
          "height": 34
        },
        "id": "jRoQzsiWSK9-",
        "outputId": "de047921-d5e6-44ec-9105-810d5b2de46d"
      },
      "source": [
        "from google.colab import files\n",
        "files.download(f'{output_dir}/model.blob')"
      ],
      "execution_count": null,
      "outputs": []
    }
  ]
}