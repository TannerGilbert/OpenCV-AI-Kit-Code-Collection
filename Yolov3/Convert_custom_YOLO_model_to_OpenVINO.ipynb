{
  "nbformat": 4,
  "nbformat_minor": 0,
  "metadata": {
    "colab": {
      "name": "Convert custom YOLO model to OpenVINO.ipynb",
      "provenance": [],
      "collapsed_sections": [],
      "toc_visible": true
    },
    "kernelspec": {
      "display_name": "Python 3",
      "name": "python3"
    },
    "accelerator": "GPU"
  },
  "cells": [
    {
      "cell_type": "markdown",
      "metadata": {
        "id": "N752pCdGNaPJ"
      },
      "source": [
        "# Convert custom YOLO model to OpenVINO"
      ]
    },
    {
      "cell_type": "markdown",
      "metadata": {
        "id": "aqTJGYlFNdlp"
      },
      "source": [
        "## Installation"
      ]
    },
    {
      "cell_type": "code",
      "metadata": {
        "colab": {
          "base_uri": "https://localhost:8080/"
        },
        "id": "9uEYkYOjPHUx",
        "outputId": "139e9dcf-59c5-48bc-af26-3cb6d5314b8c"
      },
      "source": [
        "!git clone https://github.com/AlexeyAB/darknet.git\n",
        "!chmod +x ./darknet\n",
        "!ls darknet"
      ],
      "execution_count": null,
      "outputs": []
    },
    {
      "cell_type": "code",
      "metadata": {
        "colab": {
          "base_uri": "https://localhost:8080/"
        },
        "id": "-3nrI_tYoq09",
        "outputId": "eb7e2282-cb8e-424a-901a-a40ac60252d6"
      },
      "source": [
        "%tensorflow_version 1.x"
      ],
      "execution_count": null,
      "outputs": []
    },
    {
      "cell_type": "code",
      "metadata": {
        "colab": {
          "base_uri": "https://localhost:8080/",
          "height": 35
        },
        "id": "5wQRH5X9orLg",
        "outputId": "d254e7eb-6ad8-4a89-eaef-8a06a7c9bb25"
      },
      "source": [
        "import tensorflow as tf\n",
        "tf.__version__"
      ],
      "execution_count": null,
      "outputs": []
    },
    {
      "cell_type": "code",
      "metadata": {
        "id": "uOtmbHCoJP7z"
      },
      "source": [
        "with open('darknet/Makefile', 'r') as file_:\n",
        "  file_content = file_.read()\n",
        "file_content = file_content.replace('GPU=0', 'GPU=1').replace('CUDNN=0', 'CUDNN=1').replace('OPENCV=0', 'OPENCV=1')\n",
        "\n",
        "f = open('darknet/Makefile', 'w')\n",
        "f.write(file_content)\n",
        "f.close()"
      ],
      "execution_count": null,
      "outputs": []
    },
    {
      "cell_type": "code",
      "metadata": {
        "colab": {
          "base_uri": "https://localhost:8080/"
        },
        "id": "lW1LgWC-KRFe",
        "outputId": "f5ddeccc-b3da-45aa-e192-e18d010996f9"
      },
      "source": [
        "%cd darknet\n",
        "!make"
      ],
      "execution_count": null,
      "outputs": []
    },
    {
      "cell_type": "markdown",
      "metadata": {
        "id": "QoNjIP6eLE97"
      },
      "source": [
        "## Training"
      ]
    },
    {
      "cell_type": "code",
      "metadata": {
        "id": "QPztv858LFvp",
        "colab": {
          "base_uri": "https://localhost:8080/"
        },
        "outputId": "56a52e28-c37c-492e-dc37-092bab22a12f"
      },
      "source": [
        "# Install Kaggle API\n",
        "!pip install -q kaggle\n",
        "!pip install -q kaggle-cli"
      ],
      "execution_count": null,
      "outputs": []
    },
    {
      "cell_type": "code",
      "metadata": {
        "id": "DByn7XRvMYcE"
      },
      "source": [
        "# only for google colab\n",
        "import os\n",
        "os.environ['KAGGLE_USERNAME'] = \"<username>\" \n",
        "os.environ['KAGGLE_KEY'] = \"<key>\""
      ],
      "execution_count": null,
      "outputs": []
    },
    {
      "cell_type": "code",
      "metadata": {
        "id": "Bx0zNHrbNqZF",
        "colab": {
          "base_uri": "https://localhost:8080/"
        },
        "outputId": "84c74c8a-e149-4021-b8e9-23727784985c"
      },
      "source": [
        "!kaggle datasets download -d tannergi/microcontroller-detection --unzip"
      ],
      "execution_count": null,
      "outputs": []
    },
    {
      "cell_type": "code",
      "metadata": {
        "id": "MM9pmcivt4GN"
      },
      "source": [
        "!mv 'Microcontroller Detection' microcontroller-detection"
      ],
      "execution_count": null,
      "outputs": []
    },
    {
      "cell_type": "code",
      "metadata": {
        "id": "z_yoiGxgvf7U",
        "colab": {
          "base_uri": "https://localhost:8080/"
        },
        "outputId": "9a2c33fb-371b-434e-d6a9-2fd695a649ba"
      },
      "source": [
        "%cd 'microcontroller-detection'\n",
        "!wget https://raw.githubusercontent.com/TannerGilbert/YOLO-Tutorials/master/YOLO-Object-Detection-with-Darknet/convert_voc_to_yolo.py"
      ],
      "execution_count": null,
      "outputs": []
    },
    {
      "cell_type": "code",
      "metadata": {
        "id": "ctYcN93O8o2t",
        "colab": {
          "base_uri": "https://localhost:8080/"
        },
        "outputId": "877542d3-f548-43e2-95da-d0e36dfa7c43"
      },
      "source": [
        "!python convert_voc_to_yolo.py"
      ],
      "execution_count": null,
      "outputs": []
    },
    {
      "cell_type": "code",
      "metadata": {
        "id": "2dYn-NKb9W-x"
      },
      "source": [
        "classes_file = open('custom.names', 'w')\n",
        "classes = ['Arduino_Nano', 'Heltec_ESP32_Lora', 'ESP8266', 'Raspberry_Pi_3']\n",
        "num_classes = len(classes)\n",
        "for c in classes:\n",
        "  classes_file.write(c + '\\n')\n",
        "classes_file.close()"
      ],
      "execution_count": null,
      "outputs": []
    },
    {
      "cell_type": "code",
      "metadata": {
        "id": "8Malpken9j6x",
        "colab": {
          "base_uri": "https://localhost:8080/"
        },
        "outputId": "71894dbb-aeb4-4e9c-c895-592b34960eb4"
      },
      "source": [
        "%cd /content/darknet"
      ],
      "execution_count": null,
      "outputs": []
    },
    {
      "cell_type": "code",
      "metadata": {
        "id": "kqHcduXPGr1F"
      },
      "source": [
        "config_file = open('detector.data', 'w')\n",
        "\n",
        "config_file.write(f'classes={num_classes}\\n')\n",
        "config_file.write('train=/content/darknet/microcontroller-detection/train.txt\\n')\n",
        "config_file.write('valid=/content/darknet/microcontroller-detection/test.txt\\n')\n",
        "config_file.write('names=/content/darknet/microcontroller-detection/custom.names\\n')\n",
        "config_file.write('backup=backup/')\n",
        "\n",
        "config_file.close()"
      ],
      "execution_count": null,
      "outputs": []
    },
    {
      "cell_type": "code",
      "metadata": {
        "id": "Le-cPJAzxS3U",
        "colab": {
          "base_uri": "https://localhost:8080/"
        },
        "outputId": "c6546fe7-af53-4956-f9ec-d4e4d6149640"
      },
      "source": [
        "!cat detector.data"
      ],
      "execution_count": null,
      "outputs": []
    },
    {
      "cell_type": "code",
      "metadata": {
        "id": "ZjZK43jxlFr7"
      },
      "source": [
        "!cp cfg/yolov3.cfg yolov3-custom.cfg\n",
        "with open('yolov3-custom.cfg', 'r') as file_:\n",
        "  file_content = file_.read()\n",
        "file_content = file_content.replace('batch=1', 'batch=64').replace('subdivisions=1', 'subdivisions=16').replace('max_batches = 500200', 'max_batches = 4000').replace('steps=400000,450000', 'steps=3200,3600').replace('classes=80', f'classes={num_classes}').replace('filters=255', f'filters={(num_classes + 5) * 3}')\n",
        "\n",
        "f = open('yolov3-custom.cfg', 'w')\n",
        "f.write(file_content)\n",
        "f.close()"
      ],
      "execution_count": null,
      "outputs": []
    },
    {
      "cell_type": "code",
      "metadata": {
        "id": "AoNhLmGfJAWd",
        "colab": {
          "base_uri": "https://localhost:8080/"
        },
        "outputId": "f376c88e-03ca-47d4-99d6-091c53187e08"
      },
      "source": [
        "!cat yolov3-custom.cfg"
      ],
      "execution_count": null,
      "outputs": []
    },
    {
      "cell_type": "code",
      "metadata": {
        "id": "GsxHRWkHxSBF",
        "colab": {
          "base_uri": "https://localhost:8080/"
        },
        "outputId": "6284140f-9f73-4129-8aa2-56d6e842aea0"
      },
      "source": [
        "!wget https://pjreddie.com/media/files/darknet53.conv.74"
      ],
      "execution_count": null,
      "outputs": []
    },
    {
      "cell_type": "code",
      "metadata": {
        "id": "T11dFmNhxeah",
        "colab": {
          "base_uri": "https://localhost:8080/"
        },
        "outputId": "cc902feb-2515-4d16-87da-9db6f03e161c"
      },
      "source": [
        "!./darknet detector train /content/darknet/detector.data /content/darknet/yolov3-custom.cfg /content/darknet/darknet53.conv.74 -dont_show"
      ],
      "execution_count": null,
      "outputs": []
    },
    {
      "cell_type": "code",
      "metadata": {
        "colab": {
          "base_uri": "https://localhost:8080/"
        },
        "id": "l8GiStOdW26F",
        "outputId": "76a543c9-7f54-48d0-adf6-7a42e4ba5857"
      },
      "source": [
        "!ls -lah /content/darknet/backup/yolov3-custom_last.weights"
      ],
      "execution_count": null,
      "outputs": []
    },
    {
      "cell_type": "markdown",
      "metadata": {
        "id": "QZnwzmjdQ2oF"
      },
      "source": [
        "## Convert YOLO model to Tensorflow frozen model"
      ]
    },
    {
      "cell_type": "code",
      "metadata": {
        "colab": {
          "base_uri": "https://localhost:8080/"
        },
        "id": "8Qg0do9rQ0cr",
        "outputId": "19cbef09-8a43-49a4-ac6d-6cb0830c84ed"
      },
      "source": [
        "#clone a repo that helps with the conversion\n",
        "!git clone https://github.com/mystic123/tensorflow-yolo-v3.git"
      ],
      "execution_count": null,
      "outputs": []
    },
    {
      "cell_type": "code",
      "metadata": {
        "colab": {
          "base_uri": "https://localhost:8080/"
        },
        "id": "tsFYn85YQ6dc",
        "outputId": "65930bae-9bf6-476c-e4f0-c45367959b6a"
      },
      "source": [
        "%cd tensorflow-yolo-v3/\n",
        "!git checkout ed60b90"
      ],
      "execution_count": null,
      "outputs": []
    },
    {
      "cell_type": "code",
      "metadata": {
        "colab": {
          "base_uri": "https://localhost:8080/"
        },
        "id": "MzkOBKR7Q7ov",
        "outputId": "33ea9670-209c-48cf-9632-ace4879a16da"
      },
      "source": [
        "!python3 convert_weights_pb.py --class_names /content/darknet/data/coco.names --data_format NHWC --weights_file /content/darknet/backup/yolov3-custom_last.weights --class_names /content/darknet/microcontroller-detection/custom.names"
      ],
      "execution_count": null,
      "outputs": []
    },
    {
      "cell_type": "markdown",
      "metadata": {
        "id": "2HZAsHCVRdkT"
      },
      "source": [
        "## Install OpenVINO 2021.3"
      ]
    },
    {
      "cell_type": "code",
      "metadata": {
        "colab": {
          "base_uri": "https://localhost:8080/"
        },
        "id": "TgGC8gXLRfMD",
        "outputId": "4a797b26-0612-4de1-d686-537071239a7b"
      },
      "source": [
        "import os\n",
        "from urllib.parse import urlparse\n",
        "\n",
        "## install tools. Open Vino takes some time to download - it's ~400MB\n",
        "!sudo apt-get install -y pciutils cpio\n",
        "!sudo apt autoremove\n",
        "\n",
        "## downnload installation files\n",
        "url = \"https://registrationcenter-download.intel.com/akdlm/irc_nas/17662/l_openvino_toolkit_p_2021.3.394.tgz\"\n",
        "!wget {url}\n",
        "\n",
        "## Get the name of the tgz\n",
        "parsed = urlparse(url)\n",
        "openvino_tgz = os.path.basename(parsed.path)\n",
        "openvino_folder = os.path.splitext(openvino_tgz)[0]\n",
        "\n",
        "## Extract & install openvino\n",
        "!tar xf {openvino_tgz}\n",
        "%cd {openvino_folder}\n",
        "!./install_openvino_dependencies.sh && \\\n",
        "    sed -i 's/decline/accept/g' silent.cfg && \\\n",
        "    ./install.sh --silent silent.cfg"
      ],
      "execution_count": null,
      "outputs": []
    },
    {
      "cell_type": "markdown",
      "metadata": {
        "id": "0rip-FjGRixo"
      },
      "source": [
        "## Convert TF model to OpenVINO IR"
      ]
    },
    {
      "cell_type": "code",
      "metadata": {
        "colab": {
          "base_uri": "https://localhost:8080/"
        },
        "id": "ZXwtjwA8RkIX",
        "outputId": "af887e82-7800-44ad-ca12-be856e708888"
      },
      "source": [
        "%%writefile /content/darknet/yolo_v3.json\n",
        "[\n",
        "  {\n",
        "    \"id\": \"TFYOLOV3\",\n",
        "    \"match_kind\": \"general\",\n",
        "    \"custom_attributes\": {\n",
        "      \"classes\": 4,\n",
        "      \"anchors\": [10, 13, 16, 30, 33, 23, 30, 61, 62, 45, 59, 119, 116, 90, 156, 198, 373, 326],\n",
        "      \"coords\": 4,\n",
        "      \"num\": 9,\n",
        "      \"masks\":[[6, 7, 8], [3, 4, 5], [0, 1, 2]],\n",
        "      \"entry_points\": [\"detector/yolo-v3/Reshape\", \"detector/yolo-v3/Reshape_4\", \"detector/yolo-v3/Reshape_8\"]\n",
        "    }\n",
        "  }\n",
        "]"
      ],
      "execution_count": null,
      "outputs": []
    },
    {
      "cell_type": "code",
      "metadata": {
        "colab": {
          "base_uri": "https://localhost:8080/"
        },
        "id": "Uldt4sPlR-sl",
        "outputId": "4e74891b-8814-45da-f897-5cb07565800a"
      },
      "source": [
        "!cat /content/darknet/yolo_v3.json"
      ],
      "execution_count": null,
      "outputs": []
    },
    {
      "cell_type": "code",
      "metadata": {
        "colab": {
          "base_uri": "https://localhost:8080/"
        },
        "id": "s056cIEYSB5S",
        "outputId": "317c496d-f128-45d5-de58-896c8f3bd86b"
      },
      "source": [
        "output_dir = '/content/yolov3'\n",
        "\n",
        "# Get openvino installation path\n",
        "openvino = !find /opt/intel -type d -name openvino*\n",
        "\n",
        "!python -mpip install -r {openvino[0]}/deployment_tools/model_optimizer/requirements.txt\n",
        "\n",
        "!source {openvino[0]}/bin/setupvars.sh && \\\n",
        "    python {openvino[0]}/deployment_tools/model_optimizer/mo.py \\\n",
        "      --input_model /content/darknet/tensorflow-yolo-v3/frozen_darknet_yolov3_model.pb \\\n",
        "      --tensorflow_use_custom_operations_config /content/darknet/yolo_v3.json \\\n",
        "      --batch 1 \\\n",
        "      --data_type FP16 \\\n",
        "      --reverse_input_channel \\\n",
        "      --output_dir {output_dir}"
      ],
      "execution_count": null,
      "outputs": []
    },
    {
      "cell_type": "code",
      "metadata": {
        "colab": {
          "base_uri": "https://localhost:8080/"
        },
        "id": "yRRDAEIrSGVz",
        "outputId": "55dc05e6-b01c-4b48-b8dd-f89e162d09e4"
      },
      "source": [
        "!ls -lah {output_dir}/frozen_darknet_yolov3_model.bin"
      ],
      "execution_count": null,
      "outputs": []
    },
    {
      "cell_type": "markdown",
      "metadata": {
        "id": "1q81AWLmSGpH"
      },
      "source": [
        "## Compile the IR model to a .blob for use on DepthAI modules/platform"
      ]
    },
    {
      "cell_type": "code",
      "metadata": {
        "id": "hdnYAPb7SI3Y",
        "outputId": "041febd3-71af-420a-d5c3-3bebd681a21c",
        "colab": {
          "base_uri": "https://localhost:8080/",
          "height": 795
        }
      },
      "source": [
        "binfile = f'{output_dir}/frozen_darknet_yolov3_model.bin'\n",
        "xmlfile = f'{output_dir}/frozen_darknet_yolov3_model.xml'\n",
        "\n",
        "!python -m pip install blobconverter\n",
        "\n",
        "import blobconverter\n",
        "blob_path = blobconverter.from_openvino(\n",
        "    xml=xmlfile,\n",
        "    bin=binfile,\n",
        "    data_type=\"FP16\",\n",
        "    shaves=5,\n",
        ")\n",
        "from google.colab import files\n",
        "files.download(blob_path) "
      ],
      "execution_count": null,
      "outputs": []
    }
  ]
}